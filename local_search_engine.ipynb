{
 "cells": [
  {
   "cell_type": "markdown",
   "id": "d86ae21d-128d-42f2-b8c7-83b5511a35a2",
   "metadata": {
    "editable": true,
    "slideshow": {
     "slide_type": ""
    },
    "tags": []
   },
   "source": [
    "# Implementieren einer lokalen Suchmaschine\n",
    "\n",
    "## Einführung\n",
    "Im 2. Assignment werden wir einen lokalen Such-Algorithmus entwickeln, der die Informationen über die Volleyballspielerinnen des österreichischen Nationalteams effizient durchsuchen kann. Dazu werden wir zunächst die Daten des Kaders, die im 1. Assignment gesammelt wurden, verwenden."
   ]
  },
  {
   "cell_type": "markdown",
   "id": "0a7b6457-e047-4032-8705-e799c88fb03a",
   "metadata": {},
   "source": [
    "## Arbeitsaufteilung\n",
    "**Ecker Annina**: Implementierung des Inverted Index\n",
    "\n",
    "**Cesar Laura**: TD-IDF Scoring + User Interface\n",
    "\n",
    "**Dilly Julian**: Implementierung der lokalen Suchmaschine"
   ]
  },
  {
   "cell_type": "markdown",
   "id": "289a7f04-42a7-4090-acdc-5f4718cbece6",
   "metadata": {},
   "source": [
    "### 1. Installation und Importieren der benötigten Libraries"
   ]
  },
  {
   "cell_type": "code",
   "execution_count": 1,
   "id": "57d2f66c-101b-40df-b83d-c1e1fa25d0e6",
   "metadata": {
    "scrolled": true
   },
   "outputs": [],
   "source": [
    "# !pip install -r requirements.txt"
   ]
  },
  {
   "cell_type": "code",
   "execution_count": 2,
   "id": "2787349c-5626-453e-8399-21e4b3111792",
   "metadata": {},
   "outputs": [
    {
     "name": "stderr",
     "output_type": "stream",
     "text": [
      "[nltk_data] Downloading package punkt_tab to /Users/laura/nltk_data...\n",
      "[nltk_data]   Package punkt_tab is already up-to-date!\n",
      "[nltk_data] Downloading package punkt to /Users/laura/nltk_data...\n",
      "[nltk_data]   Package punkt is already up-to-date!\n"
     ]
    },
    {
     "data": {
      "text/plain": [
       "True"
      ]
     },
     "execution_count": 2,
     "metadata": {},
     "output_type": "execute_result"
    }
   ],
   "source": [
    "import pandas as pd\n",
    "from collections import defaultdict, Counter\n",
    "import re\n",
    "import nltk\n",
    "import math\n",
    "from nltk.tokenize import word_tokenize\n",
    "nltk.download('punkt_tab')\n",
    "nltk.download('punkt')"
   ]
  },
  {
   "cell_type": "markdown",
   "id": "dec4d0e4-f2d7-4fef-83d8-5be92fc84ab0",
   "metadata": {},
   "source": [
    "### 2. Importieren der bereinigten Spielerinnendaten als CSV\n",
    "\n",
    "Die CSV-Daten sind bereits bereinigt. In 3.2 werden die Daten nochmals bereinigt, indem strings auf lowercase() gebracht und Sonderzeichen entfernt werden."
   ]
  },
  {
   "cell_type": "code",
   "execution_count": 3,
   "id": "4ac06bcb-cb49-4e7a-af0c-3b1f57b48784",
   "metadata": {},
   "outputs": [
    {
     "data": {
      "text/html": [
       "<div>\n",
       "<style scoped>\n",
       "    .dataframe tbody tr th:only-of-type {\n",
       "        vertical-align: middle;\n",
       "    }\n",
       "\n",
       "    .dataframe tbody tr th {\n",
       "        vertical-align: top;\n",
       "    }\n",
       "\n",
       "    .dataframe thead th {\n",
       "        text-align: right;\n",
       "    }\n",
       "</style>\n",
       "<table border=\"1\" class=\"dataframe\">\n",
       "  <thead>\n",
       "    <tr style=\"text-align: right;\">\n",
       "      <th></th>\n",
       "      <th>Dressnummer</th>\n",
       "      <th>Name</th>\n",
       "      <th>Position</th>\n",
       "      <th>Nationalitaet</th>\n",
       "      <th>Groesse</th>\n",
       "    </tr>\n",
       "  </thead>\n",
       "  <tbody>\n",
       "    <tr>\n",
       "      <th>0</th>\n",
       "      <td>1</td>\n",
       "      <td>Nicole Leonie HOLZINGER</td>\n",
       "      <td>Aufspiel</td>\n",
       "      <td>AUT</td>\n",
       "      <td>175 cm</td>\n",
       "    </tr>\n",
       "    <tr>\n",
       "      <th>1</th>\n",
       "      <td>2</td>\n",
       "      <td>Carmen RAAB</td>\n",
       "      <td>Diagonal</td>\n",
       "      <td>AUT</td>\n",
       "      <td>179 cm</td>\n",
       "    </tr>\n",
       "    <tr>\n",
       "      <th>2</th>\n",
       "      <td>3</td>\n",
       "      <td>Tamina HUBER</td>\n",
       "      <td>Libero</td>\n",
       "      <td>AUT</td>\n",
       "      <td>173 cm</td>\n",
       "    </tr>\n",
       "    <tr>\n",
       "      <th>3</th>\n",
       "      <td>10</td>\n",
       "      <td>Julia TRUNNER</td>\n",
       "      <td>Diagonal</td>\n",
       "      <td>AUT</td>\n",
       "      <td>185 cm</td>\n",
       "    </tr>\n",
       "    <tr>\n",
       "      <th>4</th>\n",
       "      <td>11</td>\n",
       "      <td>Monika CHRTIANSKA</td>\n",
       "      <td>Außenangriff</td>\n",
       "      <td>AUT</td>\n",
       "      <td>183 cm</td>\n",
       "    </tr>\n",
       "    <tr>\n",
       "      <th>5</th>\n",
       "      <td>13</td>\n",
       "      <td>Lina HINTEREGGER</td>\n",
       "      <td>Außenangriff</td>\n",
       "      <td>AUT</td>\n",
       "      <td>180 cm</td>\n",
       "    </tr>\n",
       "    <tr>\n",
       "      <th>6</th>\n",
       "      <td>14</td>\n",
       "      <td>Kora Marina SCHABERL</td>\n",
       "      <td>Außenangriff</td>\n",
       "      <td>AUT</td>\n",
       "      <td>183 cm</td>\n",
       "    </tr>\n",
       "    <tr>\n",
       "      <th>7</th>\n",
       "      <td>15</td>\n",
       "      <td>Anna OBERHAUSER</td>\n",
       "      <td>Libero</td>\n",
       "      <td>AUT</td>\n",
       "      <td>166 cm</td>\n",
       "    </tr>\n",
       "    <tr>\n",
       "      <th>8</th>\n",
       "      <td>17</td>\n",
       "      <td>Dana SCHMIT</td>\n",
       "      <td>Aufspiel</td>\n",
       "      <td>AUT</td>\n",
       "      <td>175 cm</td>\n",
       "    </tr>\n",
       "    <tr>\n",
       "      <th>9</th>\n",
       "      <td>18</td>\n",
       "      <td>Nina NESIMOVIC</td>\n",
       "      <td>Mittelblock</td>\n",
       "      <td>AUT</td>\n",
       "      <td>188 cm</td>\n",
       "    </tr>\n",
       "    <tr>\n",
       "      <th>10</th>\n",
       "      <td>19</td>\n",
       "      <td>Eva STABENTHEINER</td>\n",
       "      <td>Libero</td>\n",
       "      <td>AUT</td>\n",
       "      <td>171 cm</td>\n",
       "    </tr>\n",
       "    <tr>\n",
       "      <th>11</th>\n",
       "      <td>21</td>\n",
       "      <td>Verena JANKA</td>\n",
       "      <td>Mittelblock</td>\n",
       "      <td>AUT</td>\n",
       "      <td>174 cm</td>\n",
       "    </tr>\n",
       "    <tr>\n",
       "      <th>12</th>\n",
       "      <td>22</td>\n",
       "      <td>Jana GAERTNER</td>\n",
       "      <td>Mittelblock</td>\n",
       "      <td>AUT</td>\n",
       "      <td>185 cm</td>\n",
       "    </tr>\n",
       "    <tr>\n",
       "      <th>13</th>\n",
       "      <td>27</td>\n",
       "      <td>Lelia FITZ</td>\n",
       "      <td>Mittelblock</td>\n",
       "      <td>AUT</td>\n",
       "      <td>186 cm</td>\n",
       "    </tr>\n",
       "    <tr>\n",
       "      <th>14</th>\n",
       "      <td>28</td>\n",
       "      <td>Ursula EHRHART</td>\n",
       "      <td>Diagonal</td>\n",
       "      <td>AUT</td>\n",
       "      <td>185 cm</td>\n",
       "    </tr>\n",
       "  </tbody>\n",
       "</table>\n",
       "</div>"
      ],
      "text/plain": [
       "    Dressnummer                     Name      Position Nationalitaet Groesse\n",
       "0             1  Nicole Leonie HOLZINGER      Aufspiel           AUT  175 cm\n",
       "1             2              Carmen RAAB      Diagonal           AUT  179 cm\n",
       "2             3             Tamina HUBER        Libero           AUT  173 cm\n",
       "3            10            Julia TRUNNER      Diagonal           AUT  185 cm\n",
       "4            11        Monika CHRTIANSKA  Außenangriff           AUT  183 cm\n",
       "5            13         Lina HINTEREGGER  Außenangriff           AUT  180 cm\n",
       "6            14     Kora Marina SCHABERL  Außenangriff           AUT  183 cm\n",
       "7            15          Anna OBERHAUSER        Libero           AUT  166 cm\n",
       "8            17              Dana SCHMIT      Aufspiel           AUT  175 cm\n",
       "9            18           Nina NESIMOVIC   Mittelblock           AUT  188 cm\n",
       "10           19        Eva STABENTHEINER        Libero           AUT  171 cm\n",
       "11           21             Verena JANKA   Mittelblock           AUT  174 cm\n",
       "12           22            Jana GAERTNER   Mittelblock           AUT  185 cm\n",
       "13           27               Lelia FITZ   Mittelblock           AUT  186 cm\n",
       "14           28           Ursula EHRHART      Diagonal           AUT  185 cm"
      ]
     },
     "execution_count": 3,
     "metadata": {},
     "output_type": "execute_result"
    }
   ],
   "source": [
    "spielerinnen_csv = pd.read_csv('./Spielerinnendaten.csv')\n",
    "spielerinnen_csv"
   ]
  },
  {
   "cell_type": "markdown",
   "id": "9dca1c50-fa04-4576-b566-e57b906b845e",
   "metadata": {},
   "source": [
    "### 3. Implementierung des Inverted Index\n",
    "#### 3.1 Inhalt des CSVs in Token splitten"
   ]
  },
  {
   "cell_type": "code",
   "execution_count": 4,
   "id": "dd4fc383-16f1-482b-9d3c-17b90aea34c9",
   "metadata": {
    "scrolled": true
   },
   "outputs": [
    {
     "name": "stdout",
     "output_type": "stream",
     "text": [
      "Zeile 0, Spalte Dressnummer: ['1']\n",
      "Zeile 0, Spalte Name: ['Nicole', 'Leonie', 'HOLZINGER']\n",
      "Zeile 0, Spalte Position: ['Aufspiel']\n",
      "Zeile 0, Spalte Nationalitaet: ['AUT']\n",
      "Zeile 0, Spalte Groesse: ['175', 'cm']\n",
      "Zeile 1, Spalte Dressnummer: ['2']\n",
      "Zeile 1, Spalte Name: ['Carmen', 'RAAB']\n",
      "Zeile 1, Spalte Position: ['Diagonal']\n",
      "Zeile 1, Spalte Nationalitaet: ['AUT']\n",
      "Zeile 1, Spalte Groesse: ['179', 'cm']\n",
      "Zeile 2, Spalte Dressnummer: ['3']\n",
      "Zeile 2, Spalte Name: ['Tamina', 'HUBER']\n",
      "Zeile 2, Spalte Position: ['Libero']\n",
      "Zeile 2, Spalte Nationalitaet: ['AUT']\n",
      "Zeile 2, Spalte Groesse: ['173', 'cm']\n",
      "Zeile 3, Spalte Dressnummer: ['10']\n",
      "Zeile 3, Spalte Name: ['Julia', 'TRUNNER']\n",
      "Zeile 3, Spalte Position: ['Diagonal']\n",
      "Zeile 3, Spalte Nationalitaet: ['AUT']\n",
      "Zeile 3, Spalte Groesse: ['185', 'cm']\n",
      "Zeile 4, Spalte Dressnummer: ['11']\n",
      "Zeile 4, Spalte Name: ['Monika', 'CHRTIANSKA']\n",
      "Zeile 4, Spalte Position: ['Außenangriff']\n",
      "Zeile 4, Spalte Nationalitaet: ['AUT']\n",
      "Zeile 4, Spalte Groesse: ['183', 'cm']\n",
      "Zeile 5, Spalte Dressnummer: ['13']\n",
      "Zeile 5, Spalte Name: ['Lina', 'HINTEREGGER']\n",
      "Zeile 5, Spalte Position: ['Außenangriff']\n",
      "Zeile 5, Spalte Nationalitaet: ['AUT']\n",
      "Zeile 5, Spalte Groesse: ['180', 'cm']\n",
      "Zeile 6, Spalte Dressnummer: ['14']\n",
      "Zeile 6, Spalte Name: ['Kora', 'Marina', 'SCHABERL']\n",
      "Zeile 6, Spalte Position: ['Außenangriff']\n",
      "Zeile 6, Spalte Nationalitaet: ['AUT']\n",
      "Zeile 6, Spalte Groesse: ['183', 'cm']\n",
      "Zeile 7, Spalte Dressnummer: ['15']\n",
      "Zeile 7, Spalte Name: ['Anna', 'OBERHAUSER']\n",
      "Zeile 7, Spalte Position: ['Libero']\n",
      "Zeile 7, Spalte Nationalitaet: ['AUT']\n",
      "Zeile 7, Spalte Groesse: ['166', 'cm']\n",
      "Zeile 8, Spalte Dressnummer: ['17']\n",
      "Zeile 8, Spalte Name: ['Dana', 'SCHMIT']\n",
      "Zeile 8, Spalte Position: ['Aufspiel']\n",
      "Zeile 8, Spalte Nationalitaet: ['AUT']\n",
      "Zeile 8, Spalte Groesse: ['175', 'cm']\n",
      "Zeile 9, Spalte Dressnummer: ['18']\n",
      "Zeile 9, Spalte Name: ['Nina', 'NESIMOVIC']\n",
      "Zeile 9, Spalte Position: ['Mittelblock']\n",
      "Zeile 9, Spalte Nationalitaet: ['AUT']\n",
      "Zeile 9, Spalte Groesse: ['188', 'cm']\n",
      "Zeile 10, Spalte Dressnummer: ['19']\n",
      "Zeile 10, Spalte Name: ['Eva', 'STABENTHEINER']\n",
      "Zeile 10, Spalte Position: ['Libero']\n",
      "Zeile 10, Spalte Nationalitaet: ['AUT']\n",
      "Zeile 10, Spalte Groesse: ['171', 'cm']\n",
      "Zeile 11, Spalte Dressnummer: ['21']\n",
      "Zeile 11, Spalte Name: ['Verena', 'JANKA']\n",
      "Zeile 11, Spalte Position: ['Mittelblock']\n",
      "Zeile 11, Spalte Nationalitaet: ['AUT']\n",
      "Zeile 11, Spalte Groesse: ['174', 'cm']\n",
      "Zeile 12, Spalte Dressnummer: ['22']\n",
      "Zeile 12, Spalte Name: ['Jana', 'GAERTNER']\n",
      "Zeile 12, Spalte Position: ['Mittelblock']\n",
      "Zeile 12, Spalte Nationalitaet: ['AUT']\n",
      "Zeile 12, Spalte Groesse: ['185', 'cm']\n",
      "Zeile 13, Spalte Dressnummer: ['27']\n",
      "Zeile 13, Spalte Name: ['Lelia', 'FITZ']\n",
      "Zeile 13, Spalte Position: ['Mittelblock']\n",
      "Zeile 13, Spalte Nationalitaet: ['AUT']\n",
      "Zeile 13, Spalte Groesse: ['186', 'cm']\n",
      "Zeile 14, Spalte Dressnummer: ['28']\n",
      "Zeile 14, Spalte Name: ['Ursula', 'EHRHART']\n",
      "Zeile 14, Spalte Position: ['Diagonal']\n",
      "Zeile 14, Spalte Nationalitaet: ['AUT']\n",
      "Zeile 14, Spalte Groesse: ['185', 'cm']\n"
     ]
    },
    {
     "data": {
      "text/plain": [
       "['185', 'cm']"
      ]
     },
     "metadata": {},
     "output_type": "display_data"
    }
   ],
   "source": [
    "# Es werden alle Zeilen und Spalten durchlaufen, um die Inhalte in Token aufzuteilen\n",
    "for index, row in spielerinnen_csv.iterrows():\n",
    "    for col in spielerinnen_csv.columns:\n",
    "        cell_value = str(row[col])  # Konvertierung des Zelleninhalt in einen String, falls er kein Text ist\n",
    "        tokens = word_tokenize(cell_value)\n",
    "        print(f\"Zeile {index}, Spalte {col}: {tokens}\")\n",
    "\n",
    "# Letzer Token außerhalb der Schleife wird hier zusätzlich ausgegeben\n",
    "display(tokens)"
   ]
  },
  {
   "cell_type": "markdown",
   "id": "6bd46906-96d1-4700-821c-eeacb21395af",
   "metadata": {},
   "source": [
    "#### 3.2 Erstellen des Inverted Index\n",
    "Jeder Token wird den entsprechenden Dokumenten zugeordnet, in denen es vorkommt, um eine strukturierte Darstellung der Daten zu erstellen.\n",
    "In diesem Kontext bezieht sich \"Dokumente\" nicht auf physische Dokumente wie Papierseiten oder Dateien im herkömmlichen Sinne, sondern auf einzelne Textabschnitte oder Textblöcke, die durchsucht und indexiert werden. Dies könnten zum Beispiel Absätze, Sätze, Artikel, Tweets oder andere Textfragmente sein.\n"
   ]
  },
  {
   "cell_type": "code",
   "execution_count": 5,
   "id": "148bcf5b-af3f-4703-b20a-143c86bb73f0",
   "metadata": {
    "scrolled": true
   },
   "outputs": [],
   "source": [
    "def clean_text(text):\n",
    "    # Entfernt Sonderzeichen und macht alles in lowercase\n",
    "    text = re.sub(r'\\W+', ' ', text)\n",
    "    return text.lower()\n",
    "\n",
    "# Funktionsdefinition eines Inverted Index:\n",
    "# In der Funktion build_inverted_index() wird jedem Text ein doc_id zugewiesen, das die Position des Textes in der Liste darstellt.\n",
    "def build_inverted_index(docs):\n",
    "    inverted_index = defaultdict(list)\n",
    "    for doc_id, doc_fields in enumerate(docs):\n",
    "        # Kombiniere alle Felder der Zeile zu einem einzigen String\n",
    "        combined_fields = \" \".join([str(field) for field in doc_fields])  # Konvertiere jedes Feld in einen String\n",
    "        tokens = word_tokenize(clean_text(combined_fields))\n",
    "        for token in tokens:\n",
    "            if doc_id not in inverted_index[token]:\n",
    "                inverted_index[str(token)].append(doc_id)  # Stelle sicher, dass der Token als String gespeichert wird\n",
    "    return inverted_index"
   ]
  },
  {
   "cell_type": "markdown",
   "id": "611ccb30-9405-4f69-9544-1ed1f84d078c",
   "metadata": {},
   "source": [
    "### 4. TD-IDF Scoring"
   ]
  },
  {
   "cell_type": "markdown",
   "id": "e332740e-3091-48eb-b524-534a4a8f013a",
   "metadata": {},
   "source": [
    "```calculate_tf()``` calculates the term frequency (TF) for each token in a given document.\n",
    "It tokenizes the document, counts the occurrences of each token, and then normalizes the count by dividing by the total number of tokens to get the term frequency.\n",
    "\n",
    "```calculate_idf()``` calculates the inverse document frequency (IDF) for each token in the given set of documents using the previously caolculated inverted index.\n",
    "\n",
    "```calculate_tfidf()``` calculates the TF-IDF score for each token in each document.\n",
    "It first calculates IDF using calculate_idf, and then for each document, it computes the TF-IDF score by multiplying the term frequency (TF) with the corresponding IDF.\n",
    "The results are stored in a DataFrame, where each document is represented as a row and each token as a column, with values being the TF-IDF scores.\n",
    "\n",
    "```search()``` performs a search for a given search term in the TF-IDF DataFrame.\n",
    "The documents are ranked based on their TF-IDF score for the search term and the ranked documents that have non-zero scores are printed out for validation."
   ]
  },
  {
   "cell_type": "code",
   "execution_count": 6,
   "id": "666a8aaa-0ea3-4094-8bdb-ce1f14459ccf",
   "metadata": {},
   "outputs": [],
   "source": [
    "def calculate_tf(doc):\n",
    "    tokens = word_tokenize(clean_text(doc))\n",
    "    total_tokens = len(tokens)\n",
    "    tf = Counter(tokens)\n",
    "    return {token: count / total_tokens for token, count in tf.items()}\n",
    "\n",
    "def calculate_idf(documents, inverted_index):\n",
    "    N = len(documents)\n",
    "    idf = {}\n",
    "    for token in inverted_index:\n",
    "        df = len(inverted_index[token])\n",
    "        idf[token] = math.log(N / (1 + df))  \n",
    "    return idf\n",
    "\n",
    "def calculate_tfidf(documents, inverted_index):\n",
    "    idf = calculate_idf(documents, inverted_index)\n",
    "    tfidf_documents = []\n",
    "    \n",
    "    for doc_fields in documents:\n",
    "        combined_fields = \" \".join([str(field) for field in doc_fields])\n",
    "        tf = calculate_tf(combined_fields)\n",
    "        tfidf = {token: tf[token] * idf.get(token, 0) for token in tf}\n",
    "        tfidf_documents.append(tfidf)\n",
    "    \n",
    "    all_tokens = sorted(set(token for tfidf in tfidf_documents for token in tfidf))\n",
    "    tfidf_df = pd.DataFrame(0.0, index=range(len(documents)), columns=all_tokens)\n",
    "    \n",
    "    for doc_id, tfidf in enumerate(tfidf_documents):\n",
    "        for token, value in tfidf.items():\n",
    "            tfidf_df.at[doc_id, token] = value\n",
    "    \n",
    "    return tfidf_df\n",
    "\n",
    "def search(tfidf_df, search_term):\n",
    "    search_term = search_term.lower()\n",
    "    if search_term in tfidf_df.columns:\n",
    "        ranked_docs = tfidf_df[search_term].sort_values(ascending=False)\n",
    "        ranked_docs = ranked_docs[ranked_docs != 0]\n",
    "        print(ranked_docs)\n",
    "    else:\n",
    "        print(f\"'{search_term}' not found in player data.\")"
   ]
  },
  {
   "cell_type": "markdown",
   "id": "940646f5-3e7c-4cf7-afd3-43080466d516",
   "metadata": {},
   "source": [
    "### Testing"
   ]
  },
  {
   "cell_type": "code",
   "execution_count": 7,
   "id": "10daaca3-4b87-450b-ad91-742cb94cd240",
   "metadata": {},
   "outputs": [
    {
     "name": "stdout",
     "output_type": "stream",
     "text": [
      "9     0.156945\n",
      "11    0.156945\n",
      "12    0.156945\n",
      "13    0.156945\n",
      "Name: mittelblock, dtype: float64\n"
     ]
    }
   ],
   "source": [
    "player_documents = spielerinnen_csv[['Dressnummer', 'Name', 'Position', 'Nationalitaet', 'Groesse']].values.tolist()\n",
    "player_inverted_index = build_inverted_index(player_documents)\n",
    "player_tfidf_df = calculate_tfidf(player_documents, player_inverted_index)\n",
    "\n",
    "search(player_tfidf_df, 'Mittelblock')"
   ]
  },
  {
   "cell_type": "markdown",
   "id": "9f86cbe7-f3b4-4d47-b023-64bb816a4ad0",
   "metadata": {},
   "source": [
    "### 5. Implementierung der lokalen Suchmaschine"
   ]
  },
  {
   "cell_type": "markdown",
   "id": "c5e967d2-4d28-48be-8101-bd33b49c0a29",
   "metadata": {},
   "source": [
    "### 6. User Interface"
   ]
  },
  {
   "cell_type": "markdown",
   "id": "346d8646-13d5-4f2c-98d5-a76be53d83d9",
   "metadata": {},
   "source": [
    "Implementation with **Streamlit**:\n",
    "\n",
    "Running the streamlit app:\n",
    "1. navigate to ```Application``` directory\n",
    "2. enter ```streamlit run app.py```"
   ]
  },
  {
   "cell_type": "markdown",
   "id": "d64e4936-9e65-4c8b-a83a-94e87e117f9f",
   "metadata": {},
   "source": [
    "# Ressourcen & Source-Docs\n",
    "\n",
    "## Inverted Index\n",
    "1. [Implementieren eines Inverted Index](https://www.pingcap.com/article/step-by-step-guide-building-inverted-index-python/)\n",
    "\n",
    "## User Interface\n",
    "1. [Streamlit](https://streamlit.io/)"
   ]
  },
  {
   "cell_type": "markdown",
   "id": "76a5179d-2fb5-4347-abd2-da813a46e408",
   "metadata": {},
   "source": [
    "# Challenges bei der Implementierung\n",
    "\n",
    "\n",
    "#### Cesar Laura - Calculating TD-IDF & User Interface\n",
    "- Handling the results of 'AUT' as a search term. At first in the ```search``` function the line ```ranked_docs = ranked_docs[ranked_docs != 0]``` had > 0 as a condition which gave problems since due to the nature of the IDF formula ($math.log(N / (1 + df))$) the returned score of something that appears once in each document was negative.\n",
    "- In the streamlit application it was a bit of a challenge handling the initial case of \"\" being the value of the search bar and adapting the functions to this edge case.\n",
    "\n",
    "\n",
    "#### Dilly Julian\n",
    "-\n",
    "-\n",
    "\n",
    "#### Ecker Annina\n",
    "- \n",
    "- "
   ]
  }
 ],
 "metadata": {
  "kernelspec": {
   "display_name": "Python 3 (ipykernel)",
   "language": "python",
   "name": "python3"
  },
  "language_info": {
   "codemirror_mode": {
    "name": "ipython",
    "version": 3
   },
   "file_extension": ".py",
   "mimetype": "text/x-python",
   "name": "python",
   "nbconvert_exporter": "python",
   "pygments_lexer": "ipython3",
   "version": "3.12.0"
  }
 },
 "nbformat": 4,
 "nbformat_minor": 5
}
