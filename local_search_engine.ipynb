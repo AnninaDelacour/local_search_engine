{
 "cells": [
  {
   "cell_type": "markdown",
   "id": "d86ae21d-128d-42f2-b8c7-83b5511a35a2",
   "metadata": {},
   "source": [
    "# Implementieren einer lokalen Suchmaschine\n",
    "\n",
    "## Einführung\n",
    "Im 2. Assignment werden wir einen lokalen Such-Algorithmus entwickeln, der die Informationen über die Volleyballspielerinnen des österreichischen Nationalteams effizient durchsuchen kann. Dazu werden wir zunächst die Daten des Kaders, die im 1. Assignment gesammelt wurden, verwenden."
   ]
  },
  {
   "cell_type": "markdown",
   "id": "289a7f04-42a7-4090-acdc-5f4718cbece6",
   "metadata": {},
   "source": [
    "### 1. Installation und Importieren der benötigten Libraries"
   ]
  },
  {
   "cell_type": "code",
   "execution_count": null,
   "id": "57d2f66c-101b-40df-b83d-c1e1fa25d0e6",
   "metadata": {
    "scrolled": true
   },
   "outputs": [],
   "source": [
    "!pip install\n"
   ]
  },
  {
   "cell_type": "code",
   "execution_count": null,
   "id": "2787349c-5626-453e-8399-21e4b3111792",
   "metadata": {},
   "outputs": [],
   "source": [
    "import pandas as pd\n"
   ]
  },
  {
   "cell_type": "markdown",
   "id": "dec4d0e4-f2d7-4fef-83d8-5be92fc84ab0",
   "metadata": {},
   "source": [
    "### 2. WIP"
   ]
  },
  {
   "cell_type": "code",
   "execution_count": null,
   "id": "4ac06bcb-cb49-4e7a-af0c-3b1f57b48784",
   "metadata": {},
   "outputs": [],
   "source": []
  },
  {
   "cell_type": "markdown",
   "id": "9dca1c50-fa04-4576-b566-e57b906b845e",
   "metadata": {},
   "source": [
    "### 3. WIP"
   ]
  },
  {
   "cell_type": "code",
   "execution_count": null,
   "id": "dd4fc383-16f1-482b-9d3c-17b90aea34c9",
   "metadata": {
    "scrolled": true
   },
   "outputs": [],
   "source": []
  },
  {
   "cell_type": "markdown",
   "id": "9f86cbe7-f3b4-4d47-b023-64bb816a4ad0",
   "metadata": {},
   "source": [
    "### 4. WIP"
   ]
  },
  {
   "cell_type": "code",
   "execution_count": null,
   "id": "10e9309e-5031-46ad-9323-4a222f41961a",
   "metadata": {},
   "outputs": [],
   "source": []
  },
  {
   "cell_type": "markdown",
   "id": "611ccb30-9405-4f69-9544-1ed1f84d078c",
   "metadata": {},
   "source": [
    "### 5."
   ]
  },
  {
   "cell_type": "code",
   "execution_count": null,
   "id": "91f0f76a-7adf-459f-bd22-4b6f07764cc3",
   "metadata": {},
   "outputs": [],
   "source": []
  },
  {
   "cell_type": "code",
   "execution_count": null,
   "id": "04bf6a33-6eb5-45fe-9e26-867247093ba5",
   "metadata": {},
   "outputs": [],
   "source": []
  },
  {
   "cell_type": "code",
   "execution_count": null,
   "id": "cfa6e921-d189-4108-9c6f-4e61cfed64c6",
   "metadata": {},
   "outputs": [],
   "source": []
  },
  {
   "cell_type": "markdown",
   "id": "d64e4936-9e65-4c8b-a83a-94e87e117f9f",
   "metadata": {},
   "source": [
    "# Ressourcen & Source-Docs\n",
    "\n",
    "## Title\n",
    "1. [LinkName](https://www.google.com/)\n",
    "2. [LinkName](https://www.google.com/)\n",
    "3. [LinkName](https://www.google.com/)\n",
    "4. [LinkName](https://www.google.com/)\n",
    "5. [LinkName](https://www.google.com/)\n",
    "\n",
    "## Title\n",
    "1. [LinkName](https://www.google.com/)\n",
    "2. [LinkName](https://www.google.com/)\n",
    "\n",
    "## Title\n",
    "1. [LinkName](https://www.google.com/)\n",
    "2. [LinkName](https://www.google.com/)"
   ]
  },
  {
   "cell_type": "markdown",
   "id": "76a5179d-2fb5-4347-abd2-da813a46e408",
   "metadata": {},
   "source": [
    "# Challenges bei der Implementierung\n",
    "\n",
    "\n",
    "#### Cesar Laura\n",
    "-\n",
    "-\n",
    "\n",
    "\n",
    "#### Dilly Julian\n",
    "-\n",
    "-\n",
    "\n",
    "#### Ecker Annina, Implementierung von Selenium:\n",
    "- \n",
    "- "
   ]
  },
  {
   "cell_type": "code",
   "execution_count": null,
   "id": "297bc9bf-2ae9-4a60-878a-68d4c7de6899",
   "metadata": {},
   "outputs": [],
   "source": []
  },
  {
   "cell_type": "code",
   "execution_count": null,
   "id": "45d07b26-9aec-4257-b295-35f1bfa2b5e7",
   "metadata": {},
   "outputs": [],
   "source": []
  }
 ],
 "metadata": {
  "kernelspec": {
   "display_name": "Python 3 (ipykernel)",
   "language": "python",
   "name": "python3"
  },
  "language_info": {
   "codemirror_mode": {
    "name": "ipython",
    "version": 3
   },
   "file_extension": ".py",
   "mimetype": "text/x-python",
   "name": "python",
   "nbconvert_exporter": "python",
   "pygments_lexer": "ipython3",
   "version": "3.12.2"
  }
 },
 "nbformat": 4,
 "nbformat_minor": 5
}
